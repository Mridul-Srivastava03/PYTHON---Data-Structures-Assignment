{
 "cells": [
  {
   "cell_type": "markdown",
   "id": "c70d5aea-adc4-4dc8-8bde-d82407487c75",
   "metadata": {},
   "source": [
    "# Ques 1: How do you comment code in Python? What are the different types of comments?"
   ]
  },
  {
   "cell_type": "markdown",
   "id": "12e93d60-8151-421f-a97b-78504e1e58fa",
   "metadata": {},
   "source": [
    "Single line comment:- It is used to comment out one liner code. It is done by using '#' and '##'."
   ]
  },
  {
   "cell_type": "code",
   "execution_count": 1,
   "id": "8f8f37fa-09c7-49b9-b75a-bf791ec7dcb5",
   "metadata": {},
   "outputs": [],
   "source": [
    "# Hii!!\n",
    "## One liner comments."
   ]
  },
  {
   "cell_type": "markdown",
   "id": "61a55aea-de3d-4e9f-a88f-942fa7402ff5",
   "metadata": {},
   "source": [
    "Multi line comment:- It is used to comment out more than one lines of code at one time. It is done by using triple quotes [''' ''']."
   ]
  },
  {
   "cell_type": "code",
   "execution_count": 6,
   "id": "06a4f289-9c38-4605-8526-531c689d1a39",
   "metadata": {},
   "outputs": [
    {
     "data": {
      "text/plain": [
       "'Hii!!\\nThis is multi-liner code.'"
      ]
     },
     "execution_count": 6,
     "metadata": {},
     "output_type": "execute_result"
    }
   ],
   "source": [
    "'''Hii!!\n",
    "This is multi-liner code.'''"
   ]
  },
  {
   "cell_type": "markdown",
   "id": "d8fd5906-4dc3-47de-8f06-123223ca337b",
   "metadata": {},
   "source": [
    "# Ques 2: What are variables in Python? How do you declare and assign values to variables?"
   ]
  },
  {
   "cell_type": "markdown",
   "id": "722db3bb-926d-4222-b858-411b47a247d5",
   "metadata": {},
   "source": [
    "Variables - Variables are place where we store data. Variables got some space in memory of computer according to data type."
   ]
  },
  {
   "cell_type": "code",
   "execution_count": 7,
   "id": "7130a133-3850-4207-bf69-f393acad0963",
   "metadata": {},
   "outputs": [],
   "source": [
    "n = 3 #Declaration of variable."
   ]
  },
  {
   "cell_type": "code",
   "execution_count": 8,
   "id": "37e3b72a-8a45-4dc7-86f2-450a5fbd1694",
   "metadata": {},
   "outputs": [
    {
     "data": {
      "text/plain": [
       "3"
      ]
     },
     "execution_count": 8,
     "metadata": {},
     "output_type": "execute_result"
    }
   ],
   "source": [
    "n"
   ]
  },
  {
   "cell_type": "code",
   "execution_count": 9,
   "id": "38316399-2d5e-45ac-8874-f0920558bc18",
   "metadata": {},
   "outputs": [],
   "source": [
    "n = 6 #Assignment of variables."
   ]
  },
  {
   "cell_type": "code",
   "execution_count": 10,
   "id": "7c1f65a0-14e7-4346-8cf7-8370550f4060",
   "metadata": {},
   "outputs": [
    {
     "data": {
      "text/plain": [
       "6"
      ]
     },
     "execution_count": 10,
     "metadata": {},
     "output_type": "execute_result"
    }
   ],
   "source": [
    "n"
   ]
  },
  {
   "cell_type": "markdown",
   "id": "ccd3f71a-29b3-4c06-b1d1-30f8434924a8",
   "metadata": {},
   "source": [
    "# Ques 3: How do you convert one data type to another in Python?"
   ]
  },
  {
   "cell_type": "code",
   "execution_count": 19,
   "id": "81fc9910-a781-4160-97ea-8e9764451b10",
   "metadata": {},
   "outputs": [],
   "source": [
    "f = 36.79 #Declaration of variable."
   ]
  },
  {
   "cell_type": "code",
   "execution_count": 20,
   "id": "d2283e69-048b-4b51-b194-a59d00cd1b0c",
   "metadata": {},
   "outputs": [
    {
     "data": {
      "text/plain": [
       "float"
      ]
     },
     "execution_count": 20,
     "metadata": {},
     "output_type": "execute_result"
    }
   ],
   "source": [
    "type(f)"
   ]
  },
  {
   "cell_type": "code",
   "execution_count": 24,
   "id": "ed509512-752a-4b9b-890c-42002ee7e498",
   "metadata": {},
   "outputs": [],
   "source": [
    "y = int(f) #Conversion of data type."
   ]
  },
  {
   "cell_type": "code",
   "execution_count": 22,
   "id": "207ae44f-17fb-4476-8a6b-93fd6043ae79",
   "metadata": {},
   "outputs": [
    {
     "data": {
      "text/plain": [
       "36"
      ]
     },
     "execution_count": 22,
     "metadata": {},
     "output_type": "execute_result"
    }
   ],
   "source": [
    "y"
   ]
  },
  {
   "cell_type": "code",
   "execution_count": 23,
   "id": "d6ae47db-8961-4c3b-b90a-e43a56cf494b",
   "metadata": {},
   "outputs": [
    {
     "data": {
      "text/plain": [
       "int"
      ]
     },
     "execution_count": 23,
     "metadata": {},
     "output_type": "execute_result"
    }
   ],
   "source": [
    "type(y)"
   ]
  },
  {
   "cell_type": "markdown",
   "id": "05b30ff9-c02e-4e11-84f5-620f49334492",
   "metadata": {},
   "source": [
    "# Ques 5: Given a list my_list = [1, 2, 3, 4, 5], write the code to slice the list and obtain the sub-list [2, 3]."
   ]
  },
  {
   "cell_type": "code",
   "execution_count": 25,
   "id": "721dd84c-741b-4b36-af05-d7c4f407a63f",
   "metadata": {},
   "outputs": [],
   "source": [
    "my_list = [1, 2, 3, 4, 5]"
   ]
  },
  {
   "cell_type": "code",
   "execution_count": 26,
   "id": "f4bdb864-22db-4401-9916-5ffec8afe1d5",
   "metadata": {},
   "outputs": [
    {
     "data": {
      "text/plain": [
       "[2, 3]"
      ]
     },
     "execution_count": 26,
     "metadata": {},
     "output_type": "execute_result"
    }
   ],
   "source": [
    "my_list[1:3]"
   ]
  },
  {
   "cell_type": "markdown",
   "id": "b96122f7-2ba7-4565-8724-ad4b6866c004",
   "metadata": {},
   "source": [
    "# Ques 6: What is a complex number in mathematics, and how is it represented in Python?"
   ]
  },
  {
   "cell_type": "markdown",
   "id": "a84a7904-e61f-4467-b332-834b150a1f6e",
   "metadata": {},
   "source": [
    "Complex number - It is representation of number in real and imaginary part. It is represented as (3 + 6i) in mathematics.\n",
    "But it is represented as 3 + 6j in python programming."
   ]
  },
  {
   "cell_type": "code",
   "execution_count": 28,
   "id": "47aff757-a1e4-422d-a9df-202db6e9ee59",
   "metadata": {},
   "outputs": [],
   "source": [
    "comp = 3 + 6j"
   ]
  },
  {
   "cell_type": "code",
   "execution_count": 29,
   "id": "3d7a498b-bf35-4a7a-bfb3-50f96ca28292",
   "metadata": {},
   "outputs": [
    {
     "data": {
      "text/plain": [
       "complex"
      ]
     },
     "execution_count": 29,
     "metadata": {},
     "output_type": "execute_result"
    }
   ],
   "source": [
    "type(comp)"
   ]
  },
  {
   "cell_type": "markdown",
   "id": "0e4ea173-e45a-4e29-b5d5-38a367ce7ea2",
   "metadata": {},
   "source": [
    "# Ques 7: What is the correct way to declare a variable named age and assign the value 25 to it?"
   ]
  },
  {
   "cell_type": "code",
   "execution_count": 30,
   "id": "2c2c7172-a281-43e2-9bca-41bafed49b39",
   "metadata": {},
   "outputs": [],
   "source": [
    "age = 25"
   ]
  },
  {
   "cell_type": "markdown",
   "id": "f38f938a-8f07-4781-991c-3dbdd728683a",
   "metadata": {},
   "source": [
    "# Ques 8: Declare a variable named price and assign the value 9.99 to it. What data type does this variable belong to?"
   ]
  },
  {
   "cell_type": "code",
   "execution_count": 31,
   "id": "3a4141fa-6f9a-414f-8fad-18e230406835",
   "metadata": {},
   "outputs": [],
   "source": [
    "price = 9.99"
   ]
  },
  {
   "cell_type": "code",
   "execution_count": 32,
   "id": "b8275338-d6a9-4bb0-94e7-97be2eecbdff",
   "metadata": {},
   "outputs": [
    {
     "data": {
      "text/plain": [
       "float"
      ]
     },
     "execution_count": 32,
     "metadata": {},
     "output_type": "execute_result"
    }
   ],
   "source": [
    "type(price)"
   ]
  },
  {
   "cell_type": "markdown",
   "id": "b03c912d-8254-4527-a614-b55c5bbb1880",
   "metadata": {},
   "source": [
    "# Ques 9: Create a variable named name and assign your full name to it as a string. How would you print the value of this variable?"
   ]
  },
  {
   "cell_type": "code",
   "execution_count": 33,
   "id": "28cd26d3-86cc-4c53-acf8-63c80c23a6ae",
   "metadata": {},
   "outputs": [],
   "source": [
    "name = \"Kumar Mridul\""
   ]
  },
  {
   "cell_type": "markdown",
   "id": "60c286d4-cf67-4efc-8de9-b6841c1dc090",
   "metadata": {},
   "source": [
    "There are two ways to print the output:-"
   ]
  },
  {
   "cell_type": "code",
   "execution_count": 34,
   "id": "c3728297-8ae6-4d49-a351-70f5077edc8e",
   "metadata": {},
   "outputs": [
    {
     "name": "stdout",
     "output_type": "stream",
     "text": [
      "Kumar Mridul\n"
     ]
    }
   ],
   "source": [
    "print(name)"
   ]
  },
  {
   "cell_type": "code",
   "execution_count": 35,
   "id": "42b938ff-da19-43cc-9e95-59a76078d31f",
   "metadata": {},
   "outputs": [
    {
     "data": {
      "text/plain": [
       "'Kumar Mridul'"
      ]
     },
     "execution_count": 35,
     "metadata": {},
     "output_type": "execute_result"
    }
   ],
   "source": [
    "name"
   ]
  },
  {
   "cell_type": "markdown",
   "id": "e9c20486-49fa-45df-9670-04d13f69dc02",
   "metadata": {},
   "source": [
    "# Ques 10: Given the string \"Hello, World!\", extract the substring \"World\"."
   ]
  },
  {
   "cell_type": "code",
   "execution_count": 36,
   "id": "8297870b-daa3-4892-8c80-f242fb67d289",
   "metadata": {},
   "outputs": [],
   "source": [
    "hii = \"Hello, World!\""
   ]
  },
  {
   "cell_type": "code",
   "execution_count": 38,
   "id": "1167874a-6c44-40c4-abaa-e2983fc659eb",
   "metadata": {},
   "outputs": [
    {
     "data": {
      "text/plain": [
       "'World'"
      ]
     },
     "execution_count": 38,
     "metadata": {},
     "output_type": "execute_result"
    }
   ],
   "source": [
    "hii[7:12]"
   ]
  },
  {
   "cell_type": "markdown",
   "id": "887483fc-f124-4076-806a-48724dddc747",
   "metadata": {},
   "source": [
    "# Create a variable named \"is_student\" and assign it a boolean value indicating whether you are currently a student or not."
   ]
  },
  {
   "cell_type": "code",
   "execution_count": 39,
   "id": "0abd1ddb-d34a-4080-b43f-67a378e6f08d",
   "metadata": {},
   "outputs": [],
   "source": [
    "is_student = True"
   ]
  },
  {
   "cell_type": "code",
   "execution_count": 41,
   "id": "2e671737-6acf-45eb-8aa0-1ca5f7eb7f63",
   "metadata": {},
   "outputs": [
    {
     "data": {
      "text/plain": [
       "bool"
      ]
     },
     "execution_count": 41,
     "metadata": {},
     "output_type": "execute_result"
    }
   ],
   "source": [
    "type(is_student)"
   ]
  },
  {
   "cell_type": "code",
   "execution_count": null,
   "id": "3142b382-76ca-442d-84c4-4fa1a08a5b3a",
   "metadata": {},
   "outputs": [],
   "source": []
  }
 ],
 "metadata": {
  "kernelspec": {
   "display_name": "Python 3 (ipykernel)",
   "language": "python",
   "name": "python3"
  },
  "language_info": {
   "codemirror_mode": {
    "name": "ipython",
    "version": 3
   },
   "file_extension": ".py",
   "mimetype": "text/x-python",
   "name": "python",
   "nbconvert_exporter": "python",
   "pygments_lexer": "ipython3",
   "version": "3.10.8"
  }
 },
 "nbformat": 4,
 "nbformat_minor": 5
}
